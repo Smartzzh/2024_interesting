{
  "cells": [
    {
      "cell_type": "markdown",
      "metadata": {
        "id": "Gd1b9eYq_B3N"
      },
      "source": [
        "# Building Footprint Extraction for China\n",
        "\n",
        "[![image](https://colab.research.google.com/assets/colab-badge.svg)](https://colab.research.google.com/github/opengeos/geoai/blob/main/docs/examples/building_footprints_china.ipynb)\n",
        "\n",
        "## Install package\n",
        "To use the `geoai-py` package, ensure it is installed in your environment. Uncomment the command below if needed."
      ]
    },
    {
      "cell_type": "code",
      "execution_count": null,
      "metadata": {
        "id": "F-Icj-ad_B3S"
      },
      "outputs": [],
      "source": [
        "# %pip install geoai-py"
      ]
    },
    {
      "cell_type": "markdown",
      "metadata": {
        "id": "vCuIOm-Z_B3W"
      },
      "source": [
        "## Import libraries"
      ]
    },
    {
      "cell_type": "code",
      "execution_count": null,
      "metadata": {
        "id": "vVlW0_g8_B3X"
      },
      "outputs": [],
      "source": [
        "import geoai"
      ]
    },
    {
      "cell_type": "markdown",
      "metadata": {
        "id": "Hr_vOVLn_B3X"
      },
      "source": [
        "## Download sample data"
      ]
    },
    {
      "cell_type": "code",
      "execution_count": 37,
      "metadata": {
        "id": "T_xesGRd_B3Y"
      },
      "outputs": [],
      "source": [
        "raster_url = (\n",
        "    \"https://huggingface.co/datasets/giswqs/geospatial/resolve/main/buildings_china.tif\"\n",
        ")"
      ]
    },
    {
      "cell_type": "code",
      "execution_count": 38,
      "metadata": {
        "id": "58PNsl3V_B3Y",
        "outputId": "eb1dc7b0-b817-4537-d5b8-f50afd2c07e7",
        "colab": {
          "base_uri": "https://localhost:8080/"
        }
      },
      "outputs": [
        {
          "output_type": "stream",
          "name": "stdout",
          "text": [
            "File already exists: buildings_china.tif\n"
          ]
        }
      ],
      "source": [
        "raster_path = geoai.download_file(raster_url)"
      ]
    },
    {
      "cell_type": "code",
      "source": [
        "from google.colab import drive\n",
        "drive.mount('/content/drive')"
      ],
      "metadata": {
        "id": "t8NfI9KKENNA"
      },
      "execution_count": null,
      "outputs": []
    },
    {
      "cell_type": "markdown",
      "metadata": {
        "id": "wLBDO_83_B3Z"
      },
      "source": [
        "## Initialize the model"
      ]
    },
    {
      "cell_type": "code",
      "execution_count": 36,
      "metadata": {
        "id": "bFAJfKug_B3Z",
        "outputId": "4bc68ae1-cbd6-40be-d23b-d89c5c86cf3c",
        "colab": {
          "base_uri": "https://localhost:8080/"
        }
      },
      "outputs": [
        {
          "output_type": "stream",
          "name": "stdout",
          "text": [
            "Model path not specified, downloading from Hugging Face...\n",
            "Model downloaded to: /root/.cache/huggingface/hub/models--giswqs--geoai/snapshots/75788bf6253e967a91b9576b1620949a3b939820/building_footprints_usa.pth\n",
            "Model loaded successfully\n"
          ]
        }
      ],
      "source": [
        "extractor = geoai.BuildingFootprintExtractor(model_path=\"building_footprints_usa.pth\")"
      ]
    },
    {
      "cell_type": "markdown",
      "metadata": {
        "id": "pQhmHswf_B3a"
      },
      "source": [
        "## Extract building footprints"
      ]
    },
    {
      "cell_type": "code",
      "execution_count": null,
      "metadata": {
        "id": "AQdjZ534_B3a"
      },
      "outputs": [],
      "source": [
        "masks_path = extractor.generate_masks(\n",
        "    raster_path,\n",
        "    output_dir=\"building_masks.tif\",\n",
        "    min_object_area=1000,\n",
        "    confidence_threshold=0.5,\n",
        "    mask_threshold=0.6,\n",
        "    threshold=0.5,\n",
        ")"
      ]
    },
    {
      "cell_type": "code",
      "execution_count": null,
      "metadata": {
        "id": "iTpV27u-_B3b"
      },
      "outputs": [],
      "source": [
        "geoai.view_raster(masks_path, opacity=0.7, colormap=\"tab20\", basemap=raster_path)"
      ]
    },
    {
      "cell_type": "markdown",
      "metadata": {
        "id": "revKr_Bw_B3b"
      },
      "source": [
        "## Vectorize masks"
      ]
    },
    {
      "cell_type": "code",
      "execution_count": null,
      "metadata": {
        "id": "tOU1FZB4_B3b"
      },
      "outputs": [],
      "source": [
        "gdf = geoai.orthogonalize(\n",
        "    input_path=masks_path, output_path=\"building_footprints.geojson\", epsilon=1.0\n",
        ")"
      ]
    },
    {
      "cell_type": "markdown",
      "metadata": {
        "id": "jrGKo30z_B3c"
      },
      "source": [
        "## Add geometric attributes"
      ]
    },
    {
      "cell_type": "code",
      "execution_count": null,
      "metadata": {
        "id": "6DM6juE0_B3c"
      },
      "outputs": [],
      "source": [
        "gdf = geoai.add_geometric_properties(gdf)"
      ]
    },
    {
      "cell_type": "markdown",
      "metadata": {
        "id": "aKQuvvk2_B3c"
      },
      "source": [
        "## Visualize results"
      ]
    },
    {
      "cell_type": "code",
      "execution_count": null,
      "metadata": {
        "id": "2U3E35NI_B3c"
      },
      "outputs": [],
      "source": [
        "geoai.view_vector_interactive(\n",
        "    gdf, style_kwds={\"color\": \"red\", \"fillOpacity\": 0.4}, tiles=raster_url\n",
        ")"
      ]
    },
    {
      "cell_type": "markdown",
      "metadata": {
        "id": "hoGQ1Arf_B3d"
      },
      "source": [
        "![image](https://github.com/user-attachments/assets/de8d0328-17c2-4858-a255-efc4a51dae40)"
      ]
    }
  ],
  "metadata": {
    "kernelspec": {
      "display_name": "geo",
      "language": "python",
      "name": "python3"
    },
    "language_info": {
      "codemirror_mode": {
        "name": "ipython",
        "version": 3
      },
      "file_extension": ".py",
      "mimetype": "text/x-python",
      "name": "python",
      "nbconvert_exporter": "python",
      "pygments_lexer": "ipython3",
      "version": "3.12.9"
    },
    "colab": {
      "provenance": [],
      "toc_visible": true
    }
  },
  "nbformat": 4,
  "nbformat_minor": 0
}